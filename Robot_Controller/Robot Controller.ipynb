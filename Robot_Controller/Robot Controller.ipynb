{
 "cells": [
  {
   "cell_type": "markdown",
   "metadata": {},
   "source": [
    "## 控制迷宫寻宝机器人\n",
    "\n",
    "在这个项目中，你将使用刚刚学到的知识，尝试根据要求，编写代码，来控制一个机器人，在模拟环境中行走，并找到目标宝藏。\n",
    "\n",
    "机器人所在的模拟环境中，会包含这样几个因素：机器人的起点、障碍物、宝藏箱。你的任务包括：\n",
    "\n",
    "1. 分析模拟环境的数据\n",
    "2. 控制机器人随机行动\n",
    "3. （可选）控制机器人走到终点\n",
    "\n",
    "\n",
    "* 一个良好的含有注释的代码，可以让你的程序可读性更高，尝试为你自己的代码添加相应的注释。"
   ]
  },
  {
   "cell_type": "markdown",
   "metadata": {},
   "source": [
    "---\n",
    "\n",
    "---\n",
    "\n",
    "## 第一节 分析模拟环境的数据\n",
    "\n",
    "首先，只有足够了解机器人所在的环境，我们的机器人才能成功找到目标宝藏，因此首先我们来对机器人所在环境的数据进行分析。在这个部分，会考察你对数据结构、控制流的了解。\n"
   ]
  },
  {
   "cell_type": "markdown",
   "metadata": {},
   "source": [
    "### 1.1 理解模拟环境数据的储存格式\n",
    "\n",
    "首先我们思考这样的问题：如何存储模拟环境的数据呢？\n",
    "\n",
    "我们将我们的模拟环境抽象成一个格子世界，每个格子按照坐标编号进行标记；每个格子中会有四个情况，分别为普通格子（可通行）、机器人的起点（可通行）、障碍物（不可通行）、宝藏箱（目标点）。例如，一个模拟环境就可以抽象成3行4列的格子世界，并按这按这样的方法进行存储：\n",
    "```\n",
    "environment = [[0,0,0,2], \n",
    "               [1,2,0,0],\n",
    "               [0,2,3,2]]\n",
    "```\n",
    "我们用了一个列表来保存虚拟世界的数据。外层列表中的每一个元素依然是一个列表，它代表模拟环境中每行的数据。而对于这个列表中的每个元素都是一个数，它们的含义是：\n",
    "- 0: 普通格子（可通行）\n",
    "- 1: 机器人的起点（可通行）\n",
    "- 2: 障碍物（不可通行）\n",
    "- 3: 宝藏箱（目标点）\n",
    "\n",
    "那么，根据上述的数据，这个迷宫的第二行第一列，是我们机器人的起点。\n",
    "\n",
    "__注：我们描述的迷宫的坐标位置（第一行第一列），和迷宫下标索引的值（如 `(0,0)`）是不一样的，请注意下标的问题。__\n",
    "\n",
    "\n",
    "如下的代码，使用了辅助函数，读取了模拟环境的数据，并保存在了 `env_data` 变量中。\n"
   ]
  },
  {
   "cell_type": "code",
   "execution_count": 2,
   "metadata": {},
   "outputs": [
    {
     "name": "stdout",
     "output_type": "stream",
     "text": [
      "maze-id 1-1545545512\n",
      "[[3, 2, 2, 2, 2, 2, 2, 2, 1],\n",
      " [0, 0, 2, 2, 2, 2, 2, 0, 0],\n",
      " [2, 0, 0, 2, 2, 2, 0, 0, 2],\n",
      " [2, 2, 0, 0, 2, 0, 0, 2, 2],\n",
      " [2, 2, 2, 0, 0, 0, 2, 2, 2]]\n"
     ]
    }
   ],
   "source": [
    "import helper\n",
    "\n",
    "env_data = helper.fetch_maze()"
   ]
  },
  {
   "cell_type": "markdown",
   "metadata": {},
   "source": [
    "---\n",
    "\n",
    "\n",
    "**任务1：**在如下代码中，请写代码获得这些值：\n",
    "\n",
    "1. 模拟环境的长和宽\n",
    "2. 模拟环境中第3行第6列元素"
   ]
  },
  {
   "cell_type": "code",
   "execution_count": 5,
   "metadata": {},
   "outputs": [
    {
     "name": "stdout",
     "output_type": "stream",
     "text": [
      "迷宫共有 5 行 9 列，第三行第六列的元素是 2\n"
     ]
    }
   ],
   "source": [
    "#TODO 1模拟环境的行数\n",
    "rows = len(env_data) \n",
    "\n",
    "#TODO 2模拟环境的列数\n",
    "columns = len(env_data[0]) \n",
    "\n",
    "#TODO 3取出模拟环境第三行第六列的元素\n",
    "row_3_col_6 = env_data[2][5] \n",
    "\n",
    "print(\"迷宫共有\", rows, \"行\", columns, \"列，第三行第六列的元素是\", row_3_col_6)"
   ]
  },
  {
   "cell_type": "markdown",
   "metadata": {
    "collapsed": true
   },
   "source": [
    "---\n",
    "\n",
    "## 1.2 分析模拟环境数据\n",
    "\n",
    "接着我们需要对模拟环境的中的数据进行分析。请根据如下的指示，计算相应的值。\n",
    "\n",
    "---\n",
    "\n",
    "**任务2：**在如下代码中，请计算模拟环境中，第一行和第三列的障碍物个数。\n",
    "\n",
    "提示：*可以用循环完成。*"
   ]
  },
  {
   "cell_type": "code",
   "execution_count": 8,
   "metadata": {},
   "outputs": [
    {
     "name": "stdout",
     "output_type": "stream",
     "text": [
      "迷宫中，第一行共有 7 个障碍物，第三列共有 3 个障碍物。\n"
     ]
    }
   ],
   "source": [
    "#TODO 4计算模拟环境中，第一行的的障碍物个数。\n",
    "number_of_barriers_row1 = env_data[0].count(2)\n",
    "\n",
    "#TODO 5计算模拟环境中，第三列的的障碍物个数。\n",
    "number_of_barriers_col3 = list(zip(*env_data))[2].count(2)  #这个地方利用zip(*env_data)+list实现对env_data转置，再对原来的第三列统计等于2的个数\n",
    "print(\"迷宫中，第一行共有\", number_of_barriers_row1, \"个障碍物，第三列共有\", number_of_barriers_col3, \"个障碍物。\")"
   ]
  },
  {
   "cell_type": "code",
   "execution_count": 9,
   "metadata": {},
   "outputs": [
    {
     "name": "stderr",
     "output_type": "stream",
     "text": [
      ".\n",
      "----------------------------------------------------------------------\n",
      "Ran 1 test in 0.004s\n",
      "\n",
      "OK\n"
     ]
    }
   ],
   "source": [
    "%run -i -e test.py RobotControllortTestCase.test_cal_barriers"
   ]
  },
  {
   "cell_type": "markdown",
   "metadata": {},
   "source": [
    "---\n",
    "\n",
    "**任务3：**在如下代码中：\n",
    "\n",
    "1. 创建一个名为 `loc_map` 的字典，它有两个键值，分别为 `start` 和 `destination`，对应的值分别为起点和目标点的坐标，它们以如 `(0,0)` 的形式保存为元组。\n",
    "2. 从字典中取出 `start` 对应的值，保存在 `robot_current_loc` 对应的变量中，这个变量表示小车现在的位置。"
   ]
  },
  {
   "cell_type": "code",
   "execution_count": 42,
   "metadata": {
    "collapsed": true
   },
   "outputs": [],
   "source": [
    "loc_map = {} #TODO 6按照上述要求创建字典\n",
    "for row in range(len(env_data)):\n",
    "    for column in range(len(env_data[0])):\n",
    "        if env_data[row][column] == 1:\n",
    "            loc_map['start']=(row,column)\n",
    "        elif env_data[row][column] == 3:\n",
    "            loc_map['destination'] = (row,column)\n",
    "\n",
    "robot_current_loc = loc_map['start'] #TODO 7保存机器人当前的位置"
   ]
  },
  {
   "cell_type": "code",
   "execution_count": 43,
   "metadata": {},
   "outputs": [
    {
     "name": "stderr",
     "output_type": "stream",
     "text": [
      ".\n",
      "----------------------------------------------------------------------\n",
      "Ran 1 test in 0.005s\n",
      "\n",
      "OK\n"
     ]
    }
   ],
   "source": [
    "%run -i -e test.py RobotControllortTestCase.test_cal_loc_map"
   ]
  },
  {
   "cell_type": "markdown",
   "metadata": {},
   "source": [
    "\n",
    "---\n",
    "\n",
    "---\n",
    "\n",
    "## 第二节 控制机器人随机漫步\n",
    "\n",
    "在这一步中，你需发出指令，控制机器人在环境中随机行动。它会考察你对控制流、调用函数的知识。"
   ]
  },
  {
   "cell_type": "markdown",
   "metadata": {},
   "source": [
    "\n",
    "\n",
    "## 2.1 控制机器人行动\n",
    "\n",
    "我们的机器人能够执行四个动作：向上走 `u`、向下走 `d`、向左走 `l`、向右走 `r`。但是，由于有障碍，很多时候机器人的行动并不能成功。所以在这里，你需要实现一个函数，来判断机器人在某个位置，执行某个移动动作是否可行。\n",
    "\n",
    "---\n",
    "\n",
    "**任务4：**在下方代码中，实现名为 `is_move_valid_special` 的函数，它有两个输入，分别为机器人所在的位置坐标 `loc`，以及即将执行的动作 `act`，如 `(1,1)` 及 `u`。接着它的返回是一个布尔值，表明小车在 `loc` 位置下，是否可以执行动作 `act`。\n",
    "\n",
    "\n",
    "提示1：*可以读取上方定义的 `env_data` 变量，来读取模拟环境的数据。*\n",
    "\n",
    "提示2：*在实现函数后，请删去下方的 `pass` 代码。*\n",
    "\n",
    "提示3：*我们需要处理边界的情况，即机器人走到了虚拟环境边界时，是不能够走出虚拟环境的。*"
   ]
  },
  {
   "cell_type": "code",
   "execution_count": 10,
   "metadata": {
    "collapsed": true
   },
   "outputs": [],
   "source": [
    "def is_move_valid_special(loc, act):\n",
    "    \"\"\"\n",
    "    Judge wether the robot can take action act\n",
    "    at location loc.\n",
    "    \n",
    "    Keyword arguments:\n",
    "    loc -- tuple, robots current location\n",
    "    act -- string, robots meant action\n",
    "    \"\"\"\n",
    "    #TODO 8\n",
    "    x, y = loc\n",
    "    if act == 'u':\n",
    "        x -= 1\n",
    "    elif act == 'd':\n",
    "        x += 1\n",
    "    elif act == 'l':\n",
    "        y -= 1\n",
    "    elif act == 'r':\n",
    "        y += 1\n",
    "    return (0 <= y <= columns - 1) and (0 <= x <= rows - 1) and (env_data[x][y] != 2)"
   ]
  },
  {
   "cell_type": "code",
   "execution_count": 11,
   "metadata": {},
   "outputs": [
    {
     "name": "stderr",
     "output_type": "stream",
     "text": [
      ".\n",
      "----------------------------------------------------------------------\n",
      "Ran 1 test in 0.008s\n",
      "\n",
      "OK\n"
     ]
    }
   ],
   "source": [
    "%run -i -e test.py RobotControllortTestCase.test_is_move_valid_special"
   ]
  },
  {
   "cell_type": "markdown",
   "metadata": {},
   "source": [
    "---\n",
    "**任务5：**在下方代码中，重新实现一个名为 `is_move_valid` 的函数，它有三个输入，分别为模拟环境的数据 `env_data`、机器人所在的位置坐标 `loc`、以及即将执行的动作 `act`。它的返回值与此前一样，是一个布尔值，表明小车在给定的虚拟环境中的 `loc` 位置下，是否可以执行动作 `act`。"
   ]
  },
  {
   "cell_type": "code",
   "execution_count": 12,
   "metadata": {
    "collapsed": true
   },
   "outputs": [],
   "source": [
    "def is_move_valid(env_data, loc, act):\n",
    "    \"\"\"\n",
    "    Judge wether the robot can take action act\n",
    "    at location loc.\n",
    "    \n",
    "    Keyword arguments:\n",
    "    env -- list, the environment data\n",
    "    loc -- tuple, robots current location\n",
    "    act -- string, robots meant action\n",
    "    \"\"\"\n",
    "    #TODO 9\n",
    "    x, y = loc\n",
    "    if act == 'u':\n",
    "        x -= 1\n",
    "    elif act == 'd':\n",
    "        x += 1\n",
    "    elif act == 'l':\n",
    "        y -= 1\n",
    "    elif act == 'r':\n",
    "        y += 1\n",
    "    return (0 <= y <= columns - 1) and (0 <= x <= rows - 1) and (env_data[x][y] != 2)"
   ]
  },
  {
   "cell_type": "code",
   "execution_count": 13,
   "metadata": {},
   "outputs": [
    {
     "name": "stderr",
     "output_type": "stream",
     "text": [
      ".\n",
      "----------------------------------------------------------------------\n",
      "Ran 1 test in 0.012s\n",
      "\n",
      "OK\n"
     ]
    }
   ],
   "source": [
    "%run -i -e test.py RobotControllortTestCase.test_is_move_valid"
   ]
  },
  {
   "cell_type": "markdown",
   "metadata": {},
   "source": [
    "---\n",
    "\n",
    "**任务6：**请回答：\n",
    "  1. 在任务4及任务5中的实现的两个函数中，`env_data` 这个变量有什么不同？\n",
    "  2. 调用``is_move_valid``函数，参数为``env_data_``、``loc_``、``act_``，如果在函数内修改``env_data``是否会改变``env_data_``的值？为什么？\n",
    "  \n",
    "提示：_可以尝试从变量作用域的角度回答该问题1。_\n",
    "\n",
    "\n",
    "提示：_可以尝试从可变类型变量和不可变类型变量的角度回答该问题2。_\n",
    "\n"
   ]
  },
  {
   "cell_type": "markdown",
   "metadata": {},
   "source": [
    "**回答：** 1.任务4中调用的env_data是全局变量，作用域是全局范围，任务5中调用的env_data是is_move_valid函数的局部变量，只可以在本函数中调用，如果将任务5中函数参数env_data改为其他的与env_data的名称，你会发现在is_move_valid函数外部的任务地方访问它都会报错；\n",
    "2.在函数内修改env_data会改变env_data的值，首先env_data的类型为列表，列表为可变类型变量，我们可以修改其中的任意值。其次，在is_move_valid函数内部，我们对env_data进行修改，修改的结果会直接传递给它的实参，实现对全局变量env_data的修改，另外，你会发现两者通过id()打印出来的地址是相同的。"
   ]
  },
  {
   "cell_type": "markdown",
   "metadata": {},
   "source": [
    "---\n",
    "\n",
    "## 2.2 机器人可行动作\n",
    "\n",
    "---\n",
    "\n",
    "**任务7：**编写一个名为 `valid_actions` 的函数。它有两个输入，分别为虚拟环境的数据 `env_data`，以及机器人所在的位置 `loc`，输出是一个列表，表明机器人在这个位置所有的可行动作。\n",
    "\n",
    "提示：*可以尝试调用上方定义的`is_move_valid`函数。*\n"
   ]
  },
  {
   "cell_type": "code",
   "execution_count": 19,
   "metadata": {
    "collapsed": true
   },
   "outputs": [],
   "source": [
    "## TODO 10 从头定义、实现你的函数\n",
    "def valid_actions(env_data,loc):\n",
    "    valid_act = []\n",
    "    for act in ['u','d','l','r']:\n",
    "        if is_move_valid(env_data,loc,act):\n",
    "            valid_act.append(act)\n",
    "    return valid_act"
   ]
  },
  {
   "cell_type": "code",
   "execution_count": 20,
   "metadata": {},
   "outputs": [
    {
     "name": "stderr",
     "output_type": "stream",
     "text": [
      ".\n",
      "----------------------------------------------------------------------\n",
      "Ran 1 test in 0.003s\n",
      "\n",
      "OK\n"
     ]
    }
   ],
   "source": [
    "%run -i -e test.py RobotControllortTestCase.test_valid_actions"
   ]
  },
  {
   "cell_type": "markdown",
   "metadata": {},
   "source": [
    "---\n",
    "\n",
    "## 2.3 移动机器人\n",
    "\n",
    "当机器人收到一个动作的时候，你机器人的位置应发生相应的变化。\n",
    "\n",
    "**任务8：**编写一个名为 `move_robot` 的函数，它有两个输入，分别为机器人当前所在的位置 `loc` 和即将执行的动作 `act`。接着会返回机器人执行动作之后的新位置 `new_loc`。"
   ]
  },
  {
   "cell_type": "code",
   "execution_count": 21,
   "metadata": {
    "collapsed": true
   },
   "outputs": [],
   "source": [
    "##TODO 11 从头定义、实现你的函数\n",
    "def move_robot(loc,act):\n",
    "    move_dict = {\n",
    "        'u': (-1,0),                     #利用字典定义每一种动作将引起的坐标改变，再将act作为keyname直接从move_dice中调用相应的值与loc的x，y相加\n",
    "        'd': (1,0),                      #这个点子很赞哦！\n",
    "        'l': (0,-1),\n",
    "        'r': (0,1)\n",
    "    }\n",
    "\n",
    "    return loc[0] + move_dict[act][0], loc[1] + move_dict[act][1]      "
   ]
  },
  {
   "cell_type": "code",
   "execution_count": 22,
   "metadata": {},
   "outputs": [
    {
     "name": "stderr",
     "output_type": "stream",
     "text": [
      ".\n",
      "----------------------------------------------------------------------\n",
      "Ran 1 test in 0.009s\n",
      "\n",
      "OK\n"
     ]
    }
   ],
   "source": [
    "%run -i -e test.py RobotControllortTestCase.test_move_robot"
   ]
  },
  {
   "cell_type": "markdown",
   "metadata": {},
   "source": [
    "---\n",
    "\n",
    "## 2.4 随机移动机器人\n",
    "\n",
    "接着，我们尝试在虚拟环境中随机移动机器人，看看会有什么效果。\n",
    "\n",
    "**任务9：**编写一个名为 `random_choose_actions` 的函数，它有两个输入，分别为虚拟环境的数据 `env_data`，以及机器人所在的位置 `loc`。机器人会执行一个300次的循环，每次循环，他会执行以下任务：\n",
    "\n",
    "1. 利用上方定义的 `valid_actions` 函数，找出当前位置下，机器人可行的动作；\n",
    "2. 利用 `random` 库中的 `choice` 函数，从机器人可行的动作中，随机挑选出一个动作；\n",
    "3. 接着根据这个动作，利用上方定义的 `move_robot` 函数，来移动机器人，并更新机器人的位置；\n",
    "4. 当机器人走到终点时，输出“在第n个回合找到宝藏！”。\n",
    "\n",
    "提示：如果机器人无法在300个回合内找到宝藏的话，试试看增大这个数字，也许会有不错的效果 :P"
   ]
  },
  {
   "cell_type": "code",
   "execution_count": 90,
   "metadata": {
    "collapsed": true
   },
   "outputs": [],
   "source": [
    "import random"
   ]
  },
  {
   "cell_type": "code",
   "execution_count": 91,
   "metadata": {
    "collapsed": true
   },
   "outputs": [],
   "source": [
    "##TODO 12 从头实现你的函数\n",
    "def random_choose_actions(env_data,loc):\n",
    "    score = 0\n",
    "    for i in range(300):\n",
    "        if env_data[loc[0]][loc[1]] == 3:\n",
    "            break\n",
    "        else:\n",
    "            valid_action = valid_actions(env_data,loc)\n",
    "            action = random.choice(valid_action)\n",
    "            loc = move_robot(loc,action)\n",
    "    print('在第{}个回合找到宝藏'.format(i-1))"
   ]
  },
  {
   "cell_type": "code",
   "execution_count": 92,
   "metadata": {},
   "outputs": [
    {
     "name": "stdout",
     "output_type": "stream",
     "text": [
      "(0, 8) u\n",
      "(0, 8) l\n",
      "(1, 8) d\n",
      "(1, 7) u\n",
      "(1, 7) l\n",
      "(2, 7) d\n",
      "(2, 7) r\n",
      "(2, 6) u\n",
      "(2, 6) l\n",
      "(3, 6) d\n",
      "(3, 6) r\n",
      "(3, 5) u\n",
      "(3, 5) l\n",
      "(3, 6) d\n",
      "(3, 6) r\n",
      "(3, 5) u\n",
      "(3, 5) l\n",
      "(3, 6) d\n",
      "(3, 6) r\n",
      "(3, 5) u\n",
      "(3, 5) l\n",
      "(4, 5) r\n",
      "(4, 4) u\n",
      "(4, 5) r\n",
      "(4, 4) u\n",
      "(4, 3) l\n",
      "(4, 4) u\n",
      "(4, 3) l\n",
      "(4, 4) u\n",
      "(4, 3) l\n",
      "(4, 4) u\n",
      "(4, 5) r\n",
      "(4, 4) u\n",
      "(4, 5) r\n",
      "(3, 5) u\n",
      "(3, 5) l\n",
      "(4, 5) r\n",
      "(4, 4) u\n",
      "(4, 5) r\n",
      "(3, 5) u\n",
      "(3, 5) l\n",
      "(3, 6) d\n",
      "(3, 6) r\n",
      "(2, 6) u\n",
      "(2, 6) l\n",
      "(3, 6) d\n",
      "(3, 6) r\n",
      "(2, 6) u\n",
      "(2, 6) l\n",
      "(2, 7) d\n",
      "(2, 7) r\n",
      "(1, 7) u\n",
      "(1, 7) l\n",
      "(2, 7) d\n",
      "(2, 7) r\n",
      "(1, 7) u\n",
      "(1, 7) l\n",
      "(1, 8) d\n",
      "(1, 7) u\n",
      "(1, 7) l\n",
      "(2, 7) d\n",
      "(2, 7) r\n",
      "(1, 7) u\n",
      "(1, 7) l\n",
      "(2, 7) d\n",
      "(2, 7) r\n",
      "(2, 6) u\n",
      "(2, 6) l\n",
      "(3, 6) d\n",
      "(3, 6) r\n",
      "(3, 5) u\n",
      "(3, 5) l\n",
      "(4, 5) r\n",
      "(3, 5) u\n",
      "(3, 5) l\n",
      "(3, 6) d\n",
      "(3, 6) r\n",
      "(2, 6) u\n",
      "(2, 6) l\n",
      "(2, 7) d\n",
      "(2, 7) r\n",
      "(1, 7) u\n",
      "(1, 7) l\n",
      "(1, 8) d\n",
      "(0, 8) u\n",
      "(0, 8) l\n",
      "(1, 8) d\n",
      "(0, 8) u\n",
      "(0, 8) l\n",
      "(1, 8) d\n",
      "(0, 8) u\n",
      "(0, 8) l\n",
      "(1, 8) d\n",
      "(0, 8) u\n",
      "(0, 8) l\n",
      "(1, 8) d\n",
      "(0, 8) u\n",
      "(0, 8) l\n",
      "(1, 8) d\n",
      "(0, 8) u\n",
      "(0, 8) l\n",
      "(1, 8) d\n",
      "(1, 7) u\n",
      "(1, 7) l\n",
      "(1, 8) d\n",
      "(1, 7) u\n",
      "(1, 7) l\n",
      "(2, 7) d\n",
      "(2, 7) r\n",
      "(1, 7) u\n",
      "(1, 7) l\n",
      "(1, 8) d\n",
      "(0, 8) u\n",
      "(0, 8) l\n",
      "(1, 8) d\n",
      "(1, 7) u\n",
      "(1, 7) l\n",
      "(1, 8) d\n",
      "(1, 7) u\n",
      "(1, 7) l\n",
      "(2, 7) d\n",
      "(2, 7) r\n",
      "(2, 6) u\n",
      "(2, 6) l\n",
      "(3, 6) d\n",
      "(3, 6) r\n",
      "(3, 5) u\n",
      "(3, 5) l\n",
      "(4, 5) r\n",
      "(4, 4) u\n",
      "(4, 5) r\n",
      "(4, 4) u\n",
      "(4, 3) l\n",
      "(3, 3) u\n",
      "(3, 3) r\n",
      "(4, 3) l\n",
      "(4, 4) u\n",
      "(4, 5) r\n",
      "(4, 4) u\n",
      "(4, 3) l\n",
      "(4, 4) u\n",
      "(4, 3) l\n",
      "(3, 3) u\n",
      "(3, 3) r\n",
      "(3, 2) d\n",
      "(3, 2) l\n",
      "(3, 3) u\n",
      "(3, 3) r\n",
      "(3, 2) d\n",
      "(3, 2) l\n",
      "(3, 3) u\n",
      "(3, 3) r\n",
      "(3, 2) d\n",
      "(3, 2) l\n",
      "(3, 3) u\n",
      "(3, 3) r\n",
      "(4, 3) l\n",
      "(4, 4) u\n",
      "(4, 3) l\n",
      "(3, 3) u\n",
      "(3, 3) r\n",
      "(3, 2) d\n",
      "(3, 2) l\n",
      "(2, 2) u\n",
      "(2, 2) r\n",
      "(3, 2) d\n",
      "(3, 2) l\n",
      "(2, 2) u\n",
      "(2, 2) r\n",
      "(2, 1) d\n",
      "(2, 1) l\n",
      "(2, 2) u\n",
      "(2, 2) r\n",
      "(2, 1) d\n",
      "(2, 1) l\n",
      "(2, 2) u\n",
      "(2, 2) r\n",
      "(2, 1) d\n",
      "(2, 1) l\n",
      "(1, 1) u\n",
      "(1, 1) r\n",
      "(2, 1) d\n",
      "(2, 1) l\n",
      "(2, 2) u\n",
      "(2, 2) r\n",
      "(2, 1) d\n",
      "(2, 1) l\n",
      "(2, 2) u\n",
      "(2, 2) r\n",
      "(2, 1) d\n",
      "(2, 1) l\n",
      "(2, 2) u\n",
      "(2, 2) r\n",
      "(2, 1) d\n",
      "(2, 1) l\n",
      "(2, 2) u\n",
      "(2, 2) r\n",
      "(3, 2) d\n",
      "(3, 2) l\n",
      "(2, 2) u\n",
      "(2, 2) r\n",
      "(2, 1) d\n",
      "(2, 1) l\n",
      "(2, 2) u\n",
      "(2, 2) r\n",
      "(2, 1) d\n",
      "(2, 1) l\n",
      "(1, 1) u\n",
      "(1, 1) r\n",
      "(2, 1) d\n",
      "(2, 1) l\n",
      "(1, 1) u\n",
      "(1, 1) r\n",
      "(1, 0) d\n",
      "(1, 1) u\n",
      "(1, 1) r\n",
      "(1, 0) d\n",
      "(1, 1) u\n",
      "(1, 1) r\n",
      "(2, 1) d\n",
      "(2, 1) l\n",
      "(1, 1) u\n",
      "(1, 1) r\n",
      "(1, 0) d\n",
      "在第135个回合找到宝藏\n"
     ]
    }
   ],
   "source": [
    "# 运行\n",
    "random_choose_actions(env_data, robot_current_loc)"
   ]
  },
  {
   "cell_type": "markdown",
   "metadata": {},
   "source": [
    "\n",
    "---\n",
    "\n",
    "---\n",
    "\n",
    "## （可选）第三节 控制机器人走到终点\n",
    "\n",
    "## 3.1 控制机器人走到终点\n",
    "\n",
    "在这里，你将综合上述的知识，编码控制机器人走到终点。这个任务对刚刚入门的你来说可能有些挑战，所以它是一个选做题。\n",
    "\n",
    "**任务10**：尝试实现一个算法，能够对给定的模拟环境，输出机器人的行动策略，使之能够走到终点。\n",
    "\n",
    "提示：_你可以尝试参考：_\n",
    "* 深度/广度优先算法。\n",
    "    以及以下参考资料：\n",
    "    1. https://blog.csdn.net/raphealguo/article/details/7523411 \n",
    "    2. https://www.cnblogs.com/yupeng/p/3414736.html \n",
    "* A星算法。\n",
    "    以及以下参考资料：\n",
    "    1. https://baike.baidu.com/item/A%2A算法 \n",
    "    2. https://blog.csdn.net/hitwhylz/article/details/23089415"
   ]
  },
  {
   "cell_type": "code",
   "execution_count": 26,
   "metadata": {},
   "outputs": [
    {
     "name": "stdout",
     "output_type": "stream",
     "text": [
      "(1, 8)\n",
      "(1, 7)\n",
      "(2, 7)\n",
      "(2, 6)\n",
      "(3, 6)\n",
      "(3, 5)\n",
      "(4, 5)\n",
      "(4, 4)\n",
      "(4, 3)\n",
      "(3, 3)\n",
      "(3, 2)\n",
      "(2, 2)\n",
      "(2, 1)\n",
      "(1, 1)\n",
      "(1, 0)\n",
      "(0, 0)\n",
      "(0, 0) 16\n"
     ]
    }
   ],
   "source": [
    "##TODO 13 实现你的算法\n",
    "def compute_g_value(loc_destination,valid_action_loc):\n",
    "    g_value=[]\n",
    "    #本项目因为不能斜向移动，u,d,l,r四个方向的移动代价都是一样的，因此只考虑从指定点到终点的估算成本\n",
    "    for loc in valid_action_loc:\n",
    "        g_value.append((abs(loc_destination[0]-loc[0])*10,abs(loc_destination[1]-loc[1])*10))     \n",
    "    return g_value\n",
    "\n",
    "def pre_next_move(valid_action_loc,g_value,close_list):\n",
    "    next_move=[]\n",
    "    new_g_value=[]\n",
    "    for i in range(len(g_value)):\n",
    "        if valid_action_loc[i] not in close_list:\n",
    "            next_move.append(valid_action_loc[i])\n",
    "            new_g_value.append(g_value[i])\n",
    "    min_index = new_g_value.index(min(new_g_value))\n",
    "    next_loc = next_move[min_index]\n",
    "    return next_loc\n",
    "\n",
    "\n",
    "close_list=[]   \n",
    "loc,loc_destination = get_start_destination(env_data)\n",
    "close_list.append(loc)\n",
    "step = 0\n",
    "#直到当前坐标等于目标坐标时，说明已移动到目标位置，退出循环，并打印当前坐标和一共移动的次数\n",
    "while loc != loc_destination:\n",
    "    #步数累加器\n",
    "    step += 1\n",
    "    #根据当前位置和地图，获得不碰触障碍物和边界的行动方案，返回包含u,d,l,r（不一定是全部）的List\n",
    "    valid_action = valid_actions(env_data,loc)\n",
    "    #根据当前位置和可能的行动方案，获得每一个行动方案下一步的坐标，得到一个List\n",
    "    for action in valid_action:\n",
    "        valid_action_loc.append(move_robot(loc,action))\n",
    "    #计算下一步每个行动方案距离目标坐标的G值，得到一个list\n",
    "    g_value = compute_g_value(loc_destination,valid_action_loc)\n",
    "    #将不在close_list中的location放入新的可执行移动列表中，并对应生成一个g_value的list,找到最小的g_value，并返回该g_value对应的next_loc\n",
    "    loc = pre_next_move(valid_action_loc,g_value,close_list)\n",
    "    print(loc)\n",
    "    #此时已用下一个位置，更新了当前位置，我们同时将当前位置关闭，添加到close_list中\n",
    "    close_list.append(loc)\n",
    "print(loc,step)"
   ]
  },
  {
   "cell_type": "code",
   "execution_count": 17,
   "metadata": {
    "collapsed": true
   },
   "outputs": [],
   "source": [
    "def get_start_destination(env_data):\n",
    "    loc_map = {}\n",
    "    for row in range(len(env_data)):\n",
    "        for column in range(len(env_data[0])):\n",
    "            if env_data[row][column] == 1:\n",
    "                loc_map['start']=(row,column)\n",
    "            elif env_data[row][column] == 3:\n",
    "                loc_map['destination'] = (row,column)\n",
    "    return loc_map['start'],loc_map['destination']"
   ]
  },
  {
   "cell_type": "markdown",
   "metadata": {},
   "source": [
    "> 注意: 当你写完了所有的代码，并且回答了所有的问题。你就可以把你的 iPython Notebook 导出成 HTML 文件。你可以在菜单栏，这样导出**File -> Download as -> HTML (.html)**把这个 HTML 和这个 iPython notebook 一起做为你的作业提交。"
   ]
  }
 ],
 "metadata": {
  "kernelspec": {
   "display_name": "Python 3",
   "language": "python",
   "name": "python3"
  },
  "language_info": {
   "codemirror_mode": {
    "name": "ipython",
    "version": 3
   },
   "file_extension": ".py",
   "mimetype": "text/x-python",
   "name": "python",
   "nbconvert_exporter": "python",
   "pygments_lexer": "ipython3",
   "version": "3.6.2"
  }
 },
 "nbformat": 4,
 "nbformat_minor": 2
}
